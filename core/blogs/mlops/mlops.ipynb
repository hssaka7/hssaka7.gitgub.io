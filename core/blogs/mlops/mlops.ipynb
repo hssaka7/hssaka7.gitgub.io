{
 "cells": [
  {
   "cell_type": "markdown",
   "metadata": {},
   "source": [
    "---\n",
    "title: \"ML OPS Ideas\"\n",
    "\n",
    "description: \"ML ops idea and principles\"\n",
    "author: \"Aakash Basnet\"\n",
    "date: \"2024/03/04\"\n",
    "page-layout: full\n",
    "categories:\n",
    "  - keras\n",
    "  - teserflow\n",
    "  - AI\n",
    "  - python\n",
    "format:\n",
    "  html:\n",
    "    code-fold: false\n",
    "jupyter: python3\n",
    "---"
   ]
  },
  {
   "cell_type": "markdown",
   "metadata": {},
   "source": [
    "# Data Engineering Pipelines / Data pipelines\n",
    "The machine learning model is as good as the data. Hence, it is important to set up the data piplelines for data extraction, exploration, validation, wrangling/cleaning and splitting the raw data for making it machine learning ready. The objective of data pipelines are to perform operation to create training and testing datasets.\n",
    "\n",
    "- Data Extraction: Extract data from datbases, API, message queuing systems, web or network locations.\n",
    "- Data Validation: Validate data range, data schemas\n",
    "- Data Preprocessing:Clean, transform data,\n",
    "- Feature Engineering: Extract the feature from the datasets.\n",
    "\n",
    "It is best practice to version control the outupt of this pipeline for reproducability and governence(auditing).To version control Features, feature Registery is needed.\n",
    "\n"
   ]
  },
  {
   "cell_type": "markdown",
   "metadata": {},
   "source": [
    "# Feature Registry:\n",
    "Features registry/store are backend where features are stored along with their timestap tracking every entries creation and uptades. Onces the feature registy backend is setup, the python scricpr can connect to the feature store to read and write features to it. \n",
    "\n",
    "- Level 1: A simple feature registry could be maintained using a relational database design by adding the feature to track the time.\n",
    "\n",
    "\n",
    "- Level 2: As the data moves from stuctured to unstructured, it is good idea to save the data as objecs. Save the snapshot of feautures in backend(AWS S3, shared network locations)\n",
    "\n",
    "- Level 3: Use data lake data versioning tool like Data Version Control(DVC). Is there existing DVC used in the datalake?\n",
    "\n",
    "Like Datapipeline, other processes and piplelines could write to feature store as well. \n"
   ]
  },
  {
   "cell_type": "markdown",
   "metadata": {},
   "source": [
    "# Machine Learning (ML) pipelines\n",
    "\n",
    "- Feature Extraction: Extract the features from the feature stores.\n",
    "- Feature Preprocess: feature transformation, splitting data to training, testing and validation sets.\n",
    "- Model Training\n",
    "- Model Testing\n",
    "- Model Evaluation\n",
    "\n",
    "Set up for the machine learnig piple line would be similar to the setup of data piplelines. \n"
   ]
  },
  {
   "cell_type": "markdown",
   "metadata": {},
   "source": [
    "# Model Registry\n",
    "We can searilize the model files and use the same concept as feature registry to store and version control the model images and artifacts. The Machine learning pipeline will evaluate the model and write it to model registery. The model serving code will checkout the latest or tagged model from the model registery and make prediction using it. \n",
    "\n",
    "## Level 1 implementation \n",
    "<br> model table <br>\n",
    "\n",
    "|id  | model name  | serving version |\n",
    "| -- | ----------  | --------------- |\n",
    "| 1  | nlp         | 1.0             |\n",
    "| 2  | randomforest| 1.2             |\n",
    "| 3  | RNN         | 1.0             |\n",
    "\n",
    "<br>model artifact table <br> \n",
    "\n",
    "| id | model_id | version | image | metrics |\n",
    "| -- | -------- | ------- | ----- | ------- |\n",
    "| a1 | 1        |   1.0   | 01010 | ------- |\n",
    "| a2 | 2        |   1.0   | 10111 | ------- |\n",
    "| a3 | 2        |   1.1   | 00001 | ------- |\n",
    "| a4 | 2        |   1.2   | 00010 | ------- |\n",
    "| a5 | 3        |   1.0   | 00100 | ------- |\n",
    "| a6 | 3        |   1.1   | 10011 | ------- | \n",
    "\n",
    "## Level 2: \n",
    "Open source tools like mlflow, comes with built in model tracking sercive. One can host the model registry service by setting up custom tracking server for registering the model. Moreover, mlflow also has built in UI for model tracking.\n",
    "\n",
    "AWS Sagemaker also provides model registry service, which is easy to setup and use. \n",
    "\n"
   ]
  },
  {
   "cell_type": "markdown",
   "metadata": {},
   "source": [
    "# Model Serving\n",
    "Model serving could be the multiple combination based on the nature of model serving. \n",
    "\n",
    "## Level1: Batch processig jobs\n",
    "Batch processing python scripts can be scheduled to checkout the model from model registry and make predictions by feeding the data to the models. For, Tabaleu reporting , the python scripts can be scheduled to connect to  Tabaleu server and write predictions. The structure of the batch scripts looks like below: \n",
    "\n",
    "- Extract the data to make predictions\n",
    "- Transform the data using feature engineering pipeline script\n",
    "- Checkout the serving model from model registery\n",
    "- Make predictions\n",
    "- Transform the prediction to make it ready for datbase.\n",
    "- Update the database with pediction value\n",
    "- Provide the feedback and store the new features to feature registry\n",
    "\n",
    "\n",
    "## Level 2: API \n",
    "The model can be packaged and served as API(Model as a Service). User can call API for and post their data for prediction. The API end point will trigger the pipeline make predictions. The batch processing job could still call the API to make predictions. API could be integrated to databases, API, microservices, tabaleu, excel. APIs can be served as server side templating(JinJa, HTML, markdowns) or whole fornt end(React, Anguler, Vue)\n",
    "\n",
    "\n",
    "\n",
    "### Options:\n",
    "- FAST API: Rapid Development, Asyncronys design, auto documentation and data validation through pydantic data models, server side templating compatible.\n",
    "\n",
    "- FLASK: Has more support community and is in market for longer time, server side templating compatible.\n",
    "\n",
    "\n",
    "## Level 3: Adding message queueing system to the API backed or batch processing workflow.\n",
    "As vloume and velocity of the data grows, the API could not handle the incoming request. This problem could be solved by implementing Message Broker system, when the incoming requests api are published to message queues and the model will make prediction by consuming the data from message queues and publish the data to the Message queue. This way the large datasets can be consumed and published/stream.\n",
    "\n",
    "### Options:\n",
    "- Kakfa\n",
    "- Amazon SQS\n",
    " \n",
    "\n",
    "\n",
    "\n"
   ]
  },
  {
   "cell_type": "markdown",
   "metadata": {},
   "source": [
    "# Model monitoring "
   ]
  },
  {
   "cell_type": "markdown",
   "metadata": {},
   "source": [
    "# Resources: \n",
    "- https://ml-ops.org/\n",
    "- https://github.com/visenger/awesome-mlops?tab=readme-ov-file\n",
    "- https://cloud.google.com/architecture/mlops-continuous-delivery-and-automation-pipelines-in-machine-learning"
   ]
  }
 ],
 "metadata": {
  "language_info": {
   "name": "python"
  }
 },
 "nbformat": 4,
 "nbformat_minor": 2
}
