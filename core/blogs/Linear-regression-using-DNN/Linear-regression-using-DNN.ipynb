{
 "cells": [
  {
   "cell_type": "markdown",
   "metadata": {},
   "source": [
    "---\n",
    "title: \"Linear Regression using DNN\"\n",
    "\n",
    "description: \" Linear regression of California housing dataset using deep neural networks\"\n",
    "author: \"Aakash Basnet\"\n",
    "date: \"2024/03/04\"\n",
    "page-layout: full\n",
    "categories:\n",
    "  - keras\n",
    "  - teserflow\n",
    "  - AI\n",
    "  - python\n",
    "format:\n",
    "  html:\n",
    "    code-fold: true\n",
    "jupyter: python3\n",
    "---"
   ]
  }
 ],
 "metadata": {
  "kernelspec": {
   "display_name": "Python 3",
   "language": "python",
   "name": "python3"
  },
  "language_info": {
   "codemirror_mode": {
    "name": "ipython",
    "version": 3
   },
   "file_extension": ".py",
   "mimetype": "text/x-python",
   "name": "python",
   "nbconvert_exporter": "python",
   "pygments_lexer": "ipython3",
   "version": "3.10.8"
  }
 },
 "nbformat": 4,
 "nbformat_minor": 2
}
